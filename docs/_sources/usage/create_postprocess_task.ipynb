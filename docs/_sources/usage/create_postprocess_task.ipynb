{
 "cells": [
  {
   "cell_type": "markdown",
   "metadata": {},
   "source": [
    "# Create a new postprocess task\n",
    "\n",
    "## Folder and postprocess.sh\n",
    "\n",
    "Go to the folder `postprocess` in your root directory and subsequently to the directory of the model you want to create a task for.\n",
    "Here you have to create a folder with the name of the task, e.g. `new_task` (no spaces).\n",
    "In this new folder you have to create a script called `postprocess.sh` taking the following arguments\n",
    "\n",
    "``` bash\n",
    "out_dir=$1\n",
    "from=$2\n",
    "to=$3\n",
    "```\n",
    "\n",
    "* `out_dir` will be the path to your model's output, e.g. \"/path/to/iow_esm/output/MOM5_Baltic\".\n",
    "* `from` and `to` will be the start and end date, respectively, of the time period your task will process. Both are given in the format YYYYMMDD.\n",
    "\n",
    "What the script is then doing is completely up to you.\n",
    "It can call bash or python scripts etc.\n",
    "There are some auxiliary modules provided in the [auxiliary](https://git.io-warnemuende.de/iow_esm/postprocess/src/branch/master/auxiliary) folder of the [postprocess](https://git.io-warnemuende.de/iow_esm/postprocess) repository. You might use them.\n",
    "\n",
    "## Dependencies (optional but useful)\n",
    "\n",
    "In order to keep an overview of the dependencies among the postprocess tasks it is useful to create a file `config.py` that contains list variable `dependencies`, e.g\n",
    "\n",
    "``` python\n",
    "dependencies = [\"process_raw_output\"]\n",
    "```\n",
    "\n",
    "Entries in the list are the names of tasks that your new task _directly_ depdends on.\n",
    "These dependencies are used by the GUI to list your tasks such that you can execute them in the correct order.\n",
    "\n",
    "You can also use this `config.py` file for configuring your task if it is a python script.\n"
   ]
  }
 ],
 "metadata": {
  "kernelspec": {
   "display_name": "(1) Python 3",
   "language": "python",
   "name": "iow_python"
  },
  "language_info": {
   "codemirror_mode": {
    "name": "ipython",
    "version": 3
   },
   "file_extension": ".py",
   "mimetype": "text/x-python",
   "name": "python",
   "nbconvert_exporter": "python",
   "pygments_lexer": "ipython3",
   "version": "3.7.7"
  }
 },
 "nbformat": 4,
 "nbformat_minor": 4
}
